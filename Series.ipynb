{
 "cells": [
  {
   "cell_type": "markdown",
   "metadata": {},
   "source": [
    "# Series"
   ]
  },
  {
   "cell_type": "markdown",
   "metadata": {},
   "source": [
    "Series is the primary building block of pandas. It is similar to NumPy but whereas in NumPy, you can only access an element by the integer value of its position in the array, pandas provides a means to access an element with your custom defined index as well. For more on the difference between NumPy and pandas series, see [this medium blog post](https://medium.com/@ericvanrees/pandas-series-objects-and-numpy-arrays-15dfe05919d7) by Eric van Rees."
   ]
  },
  {
   "cell_type": "markdown",
   "metadata": {},
   "source": [
    "Let's defined the problem we are going to solve here using pandas."
   ]
  },
  {
   "cell_type": "markdown",
   "metadata": {},
   "source": [
    "## Problem "
   ]
  },
  {
   "cell_type": "markdown",
   "metadata": {},
   "source": [
    "You are given the heights (in inch) and weights (in lbs) of 5 people as shown in the table below:"
   ]
  },
  {
   "cell_type": "markdown",
   "metadata": {},
   "source": [
    "| Person | Height(inch) | Weight(lbs) |\n",
    "|--------|--------------|-------------|\n",
    "|    A   |     72       |      186    |\n",
    "|    B   |     69       |      205    |\n",
    "|    C   |     70       |      201    |\n",
    "|    D   |     62       |      125    |\n",
    "|    E   |     57       |      89     |"
   ]
  },
  {
   "cell_type": "markdown",
   "metadata": {
    "collapsed": true
   },
   "source": [
    "Find the Body Mass Index (BMI) for each person."
   ]
  },
  {
   "cell_type": "code",
   "execution_count": null,
   "metadata": {
    "collapsed": true
   },
   "outputs": [],
   "source": []
  }
 ],
 "metadata": {
  "kernelspec": {
   "display_name": "Python 3",
   "language": "python",
   "name": "python3"
  },
  "language_info": {
   "codemirror_mode": {
    "name": "ipython",
    "version": 3
   },
   "file_extension": ".py",
   "mimetype": "text/x-python",
   "name": "python",
   "nbconvert_exporter": "python",
   "pygments_lexer": "ipython3",
   "version": "3.6.3"
  }
 },
 "nbformat": 4,
 "nbformat_minor": 2
}
