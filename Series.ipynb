{
 "cells": [
  {
   "cell_type": "markdown",
   "metadata": {},
   "source": [
    "# Series"
   ]
  },
  {
   "cell_type": "markdown",
   "metadata": {},
   "source": [
    "Series is the primary building block of pandas. It is similar to NumPy but whereas in NumPy, you can only access an element by the integer value of its position in the array, pandas provides a means to access an element with your custom defined index as well. For more on the difference between NumPy and pandas series, see [this medium blog post](https://medium.com/@ericvanrees/pandas-series-objects-and-numpy-arrays-15dfe05919d7) by Eric van Rees."
   ]
  },
  {
   "cell_type": "markdown",
   "metadata": {},
   "source": [
    "Let's define the problem we are going to solve here using pandas series."
   ]
  },
  {
   "cell_type": "markdown",
   "metadata": {},
   "source": [
    "## Problem "
   ]
  },
  {
   "cell_type": "markdown",
   "metadata": {},
   "source": [
    "You are given the heights (in inch) and weights (in lbs) of 5 people as shown in the table below:"
   ]
  },
  {
   "cell_type": "markdown",
   "metadata": {},
   "source": [
    "| Person | Height(inch) | Weight(lbs) |\n",
    "|--------|--------------|-------------|\n",
    "|    A   |     72       |      186    |\n",
    "|    B   |     69       |      205    |\n",
    "|    C   |     70       |      201    |\n",
    "|    D   |     62       |      125    |\n",
    "|    E   |     57       |      89     |"
   ]
  },
  {
   "cell_type": "markdown",
   "metadata": {
    "collapsed": true
   },
   "source": [
    "It is later found that the table actually misses entries for persons F and G whose heights are 65 inch and 60 inch respectively and the weight for F is 121 lbs, but data for G's weight is missing. Also, values for all the heights is found to be 5 inch less than it should have been, whereas values for all the weights is found to be 5 lbs more than it should have been. Find the correct Body Mass Index (BMI) for each person, if possible."
   ]
  },
  {
   "cell_type": "markdown",
   "metadata": {
    "collapsed": true
   },
   "source": [
    "## Solution"
   ]
  },
  {
   "cell_type": "markdown",
   "metadata": {},
   "source": [
    "First, let's represent the heights and weights for the persons using 2 dictionaries."
   ]
  },
  {
   "cell_type": "code",
   "execution_count": 1,
   "metadata": {},
   "outputs": [],
   "source": [
    "height_dictionary = {'A': 72, 'B': 69, 'C': 70, 'D': 62, 'E': 57}\n",
    "weight_dictionary = {'A': 186, 'B': 205, 'C': 201, 'D': 125, 'E': 89}"
   ]
  },
  {
   "cell_type": "markdown",
   "metadata": {},
   "source": [
    "Now, we can form pandas series using the two dictionaries above. Before that we need to import the pandas library."
   ]
  },
  {
   "cell_type": "code",
   "execution_count": 2,
   "metadata": {},
   "outputs": [],
   "source": [
    "import pandas as pd"
   ]
  },
  {
   "cell_type": "code",
   "execution_count": 3,
   "metadata": {},
   "outputs": [
    {
     "data": {
      "text/plain": [
       "A    72\n",
       "B    69\n",
       "C    70\n",
       "D    62\n",
       "E    57\n",
       "dtype: int64"
      ]
     },
     "execution_count": 3,
     "metadata": {},
     "output_type": "execute_result"
    }
   ],
   "source": [
    "height_series = pd.Series(height_dictionary)\n",
    "height_series"
   ]
  },
  {
   "cell_type": "markdown",
   "metadata": {},
   "source": [
    "As we can see, the keys are the index for the corresponding values. The values can be accessed using the labels."
   ]
  },
  {
   "cell_type": "code",
   "execution_count": 4,
   "metadata": {},
   "outputs": [
    {
     "data": {
      "text/plain": [
       "69"
      ]
     },
     "execution_count": 4,
     "metadata": {},
     "output_type": "execute_result"
    }
   ],
   "source": [
    "height_series['B']"
   ]
  },
  {
   "cell_type": "markdown",
   "metadata": {},
   "source": [
    "But it can also be accessed using integer index as in NumPy."
   ]
  },
  {
   "cell_type": "code",
   "execution_count": 5,
   "metadata": {},
   "outputs": [
    {
     "data": {
      "text/plain": [
       "69"
      ]
     },
     "execution_count": 5,
     "metadata": {},
     "output_type": "execute_result"
    }
   ],
   "source": [
    "height_series[1]"
   ]
  },
  {
   "cell_type": "markdown",
   "metadata": {},
   "source": [
    "We do the same thing for the weight_dictionary. "
   ]
  },
  {
   "cell_type": "code",
   "execution_count": 6,
   "metadata": {
    "scrolled": true
   },
   "outputs": [
    {
     "data": {
      "text/plain": [
       "A    186\n",
       "B    205\n",
       "C    201\n",
       "D    125\n",
       "E     89\n",
       "dtype: int64"
      ]
     },
     "execution_count": 6,
     "metadata": {},
     "output_type": "execute_result"
    }
   ],
   "source": [
    "weight_series = pd.Series(weight_dictionary)\n",
    "weight_series"
   ]
  },
  {
   "cell_type": "markdown",
   "metadata": {},
   "source": [
    "The table missed the values for F and G. Let's create new series for the missing values. This time we will use python list instead of dictionary."
   ]
  },
  {
   "cell_type": "code",
   "execution_count": 7,
   "metadata": {},
   "outputs": [
    {
     "data": {
      "text/plain": [
       "F    65\n",
       "G    60\n",
       "dtype: int64"
      ]
     },
     "execution_count": 7,
     "metadata": {},
     "output_type": "execute_result"
    }
   ],
   "source": [
    "missing_height = pd.Series([65,60],['F','G'])\n",
    "missing_height"
   ]
  },
  {
   "cell_type": "markdown",
   "metadata": {},
   "source": [
    "We do the same for the missing weight. This time we will change the order for the index and the data. For that we would need to explicitly define index and data in the arguments."
   ]
  },
  {
   "cell_type": "code",
   "execution_count": 8,
   "metadata": {},
   "outputs": [
    {
     "data": {
      "text/plain": [
       "F    121\n",
       "dtype: int64"
      ]
     },
     "execution_count": 8,
     "metadata": {},
     "output_type": "execute_result"
    }
   ],
   "source": [
    "missing_weight = pd.Series(index=['F'],data=[121])\n",
    "missing_weight"
   ]
  },
  {
   "cell_type": "markdown",
   "metadata": {},
   "source": [
    "Now, that we have the series for missing values, let's append these to the original series."
   ]
  },
  {
   "cell_type": "code",
   "execution_count": 9,
   "metadata": {},
   "outputs": [
    {
     "data": {
      "text/plain": [
       "A    72\n",
       "B    69\n",
       "C    70\n",
       "D    62\n",
       "E    57\n",
       "F    65\n",
       "G    60\n",
       "dtype: int64"
      ]
     },
     "execution_count": 9,
     "metadata": {},
     "output_type": "execute_result"
    }
   ],
   "source": [
    "updated_height_series = height_series.append(missing_height)\n",
    "updated_height_series"
   ]
  },
  {
   "cell_type": "code",
   "execution_count": 10,
   "metadata": {},
   "outputs": [
    {
     "data": {
      "text/plain": [
       "A    186\n",
       "B    205\n",
       "C    201\n",
       "D    125\n",
       "E     89\n",
       "F    121\n",
       "dtype: int64"
      ]
     },
     "execution_count": 10,
     "metadata": {},
     "output_type": "execute_result"
    }
   ],
   "source": [
    "updated_weight_series = weight_series.append(missing_weight)\n",
    "updated_weight_series"
   ]
  },
  {
   "cell_type": "markdown",
   "metadata": {},
   "source": [
    "The data for height and weight of each person is found to be 5 less and 5 more respectively than it should have been. To correct it, first let's create an array with 7 entries for the 7 persons where each entry is 5. We will do that with NumPy, so let's import NumPy and create the correction_series."
   ]
  },
  {
   "cell_type": "code",
   "execution_count": 11,
   "metadata": {},
   "outputs": [
    {
     "data": {
      "text/plain": [
       "A    5.0\n",
       "B    5.0\n",
       "C    5.0\n",
       "D    5.0\n",
       "E    5.0\n",
       "F    5.0\n",
       "G    5.0\n",
       "dtype: float64"
      ]
     },
     "execution_count": 11,
     "metadata": {},
     "output_type": "execute_result"
    }
   ],
   "source": [
    "import numpy as np\n",
    "correction_series = pd.Series(5*np.ones(7),index=['A','B','C','D','E','F','G'])\n",
    "correction_series"
   ]
  },
  {
   "cell_type": "markdown",
   "metadata": {},
   "source": [
    "Now let's add 5 to the heights for each person."
   ]
  },
  {
   "cell_type": "code",
   "execution_count": 12,
   "metadata": {},
   "outputs": [
    {
     "data": {
      "text/plain": [
       "A    77.0\n",
       "B    74.0\n",
       "C    75.0\n",
       "D    67.0\n",
       "E    62.0\n",
       "F    70.0\n",
       "G    65.0\n",
       "dtype: float64"
      ]
     },
     "execution_count": 12,
     "metadata": {},
     "output_type": "execute_result"
    }
   ],
   "source": [
    "corrected_height_series = updated_height_series + correction_series\n",
    "corrected_height_series"
   ]
  },
  {
   "cell_type": "markdown",
   "metadata": {},
   "source": [
    "Upon adding, the data type of the series has changed from int64 to float64."
   ]
  },
  {
   "cell_type": "markdown",
   "metadata": {},
   "source": [
    "And let's subtract 5 from the weights for each person."
   ]
  },
  {
   "cell_type": "code",
   "execution_count": 13,
   "metadata": {},
   "outputs": [
    {
     "data": {
      "text/plain": [
       "A    181.0\n",
       "B    200.0\n",
       "C    196.0\n",
       "D    120.0\n",
       "E     84.0\n",
       "F    116.0\n",
       "G      NaN\n",
       "dtype: float64"
      ]
     },
     "execution_count": 13,
     "metadata": {},
     "output_type": "execute_result"
    }
   ],
   "source": [
    "corrected_weight_series = updated_weight_series - correction_series\n",
    "corrected_weight_series"
   ]
  },
  {
   "cell_type": "markdown",
   "metadata": {},
   "source": [
    "As we can see from above, the weight for G was missing, so when we tried to subtract 5 from a non-exising value, the resulting series now has a Not a Number value for G's weight."
   ]
  },
  {
   "cell_type": "markdown",
   "metadata": {},
   "source": [
    "Since the weight of G is not available, we cannot calculate G's BMI. So, let's remove G's entry from both the corrected_height_series and corrected_weight_series."
   ]
  },
  {
   "cell_type": "markdown",
   "metadata": {},
   "source": [
    "G's height is available, so to remove it we specify the index."
   ]
  },
  {
   "cell_type": "code",
   "execution_count": 14,
   "metadata": {},
   "outputs": [
    {
     "data": {
      "text/plain": [
       "A    77.0\n",
       "B    74.0\n",
       "C    75.0\n",
       "D    67.0\n",
       "E    62.0\n",
       "F    70.0\n",
       "dtype: float64"
      ]
     },
     "execution_count": 14,
     "metadata": {},
     "output_type": "execute_result"
    }
   ],
   "source": [
    "corrected_height_series.drop(['G'])"
   ]
  },
  {
   "cell_type": "markdown",
   "metadata": {},
   "source": [
    "We see that simply by using drop with the array of indices, the entry has been removed. But has it really? Let's check again."
   ]
  },
  {
   "cell_type": "code",
   "execution_count": 15,
   "metadata": {},
   "outputs": [
    {
     "data": {
      "text/plain": [
       "A    77.0\n",
       "B    74.0\n",
       "C    75.0\n",
       "D    67.0\n",
       "E    62.0\n",
       "F    70.0\n",
       "G    65.0\n",
       "dtype: float64"
      ]
     },
     "execution_count": 15,
     "metadata": {},
     "output_type": "execute_result"
    }
   ],
   "source": [
    "corrected_height_series"
   ]
  },
  {
   "cell_type": "markdown",
   "metadata": {},
   "source": [
    "Using drop just created a new series with the dropped entry removed, but didn't change the original series. In order to reflect this in the original series, we must specify inplace in the arguments and set it to True. Let's do that."
   ]
  },
  {
   "cell_type": "code",
   "execution_count": 16,
   "metadata": {},
   "outputs": [],
   "source": [
    "corrected_height_series.drop(['G'],inplace=True)"
   ]
  },
  {
   "cell_type": "markdown",
   "metadata": {},
   "source": [
    "Now, when we check the original series, corrected_height_series, the entry for G will have been removed."
   ]
  },
  {
   "cell_type": "code",
   "execution_count": 17,
   "metadata": {},
   "outputs": [
    {
     "data": {
      "text/plain": [
       "A    77.0\n",
       "B    74.0\n",
       "C    75.0\n",
       "D    67.0\n",
       "E    62.0\n",
       "F    70.0\n",
       "dtype: float64"
      ]
     },
     "execution_count": 17,
     "metadata": {},
     "output_type": "execute_result"
    }
   ],
   "source": [
    "corrected_height_series"
   ]
  },
  {
   "cell_type": "markdown",
   "metadata": {},
   "source": [
    "For the case of weights, G's weight is unavailable. In order to drop the entry for G, we simply use the dropna method. Again, we need to specify inplace=True, otherwise the drop will not be reflected in the original series."
   ]
  },
  {
   "cell_type": "code",
   "execution_count": 18,
   "metadata": {},
   "outputs": [],
   "source": [
    "corrected_weight_series.dropna(inplace=True)"
   ]
  },
  {
   "cell_type": "code",
   "execution_count": 19,
   "metadata": {},
   "outputs": [
    {
     "data": {
      "text/plain": [
       "A    181.0\n",
       "B    200.0\n",
       "C    196.0\n",
       "D    120.0\n",
       "E     84.0\n",
       "F    116.0\n",
       "dtype: float64"
      ]
     },
     "execution_count": 19,
     "metadata": {},
     "output_type": "execute_result"
    }
   ],
   "source": [
    "corrected_weight_series"
   ]
  },
  {
   "cell_type": "markdown",
   "metadata": {},
   "source": [
    "Now that we have all the values correctly in place, it's time to find the Body Mass Index. The formula to calculate BMI is as follows:"
   ]
  },
  {
   "cell_type": "markdown",
   "metadata": {},
   "source": [
    "\\begin{equation*}\n",
    "BMI = \\frac{Weight(kg)}{[Height(meter)]^2}\n",
    "\\end{equation*}"
   ]
  },
  {
   "cell_type": "markdown",
   "metadata": {},
   "source": [
    "To apply the above formula, the weights must first be converted from lbs to kg and heights from inch to meter. We know,  \n",
    "\n",
    "\\begin{equation*}\n",
    "1 lb = 0.453592 kg, \\\\\\\n",
    "1 inch = 0.0254 m\n",
    "\\end{equation*}"
   ]
  },
  {
   "cell_type": "code",
   "execution_count": 20,
   "metadata": {},
   "outputs": [],
   "source": [
    "lbs_to_kg_ratio = 0.453592\n",
    "inch_to_meter_ratio = 0.0254"
   ]
  },
  {
   "cell_type": "code",
   "execution_count": 21,
   "metadata": {},
   "outputs": [
    {
     "data": {
      "text/plain": [
       "A    82.100152\n",
       "B    90.718400\n",
       "C    88.904032\n",
       "D    54.431040\n",
       "E    38.101728\n",
       "F    52.616672\n",
       "dtype: float64"
      ]
     },
     "execution_count": 21,
     "metadata": {},
     "output_type": "execute_result"
    }
   ],
   "source": [
    "weights_in_kg = np.multiply(corrected_weight_series,lbs_to_kg_ratio)\n",
    "weights_in_kg"
   ]
  },
  {
   "cell_type": "code",
   "execution_count": 22,
   "metadata": {},
   "outputs": [
    {
     "data": {
      "text/plain": [
       "A    1.9558\n",
       "B    1.8796\n",
       "C    1.9050\n",
       "D    1.7018\n",
       "E    1.5748\n",
       "F    1.7780\n",
       "dtype: float64"
      ]
     },
     "execution_count": 22,
     "metadata": {},
     "output_type": "execute_result"
    }
   ],
   "source": [
    "heights_in_m = np.multiply(corrected_height_series,inch_to_meter_ratio)\n",
    "heights_in_m"
   ]
  },
  {
   "cell_type": "markdown",
   "metadata": {},
   "source": [
    "Finally, we can compute the BMI using the above formula."
   ]
  },
  {
   "cell_type": "code",
   "execution_count": 23,
   "metadata": {},
   "outputs": [
    {
     "data": {
      "text/plain": [
       "A    21.463230\n",
       "B    25.678196\n",
       "C    24.498049\n",
       "D    18.794449\n",
       "E    15.363631\n",
       "F    16.644083\n",
       "dtype: float64"
      ]
     },
     "execution_count": 23,
     "metadata": {},
     "output_type": "execute_result"
    }
   ],
   "source": [
    "BMI = np.divide(weights_in_kg,np.square(heights_in_m))\n",
    "BMI"
   ]
  }
 ],
 "metadata": {
  "kernelspec": {
   "display_name": "Python 3",
   "language": "python",
   "name": "python3"
  },
  "language_info": {
   "codemirror_mode": {
    "name": "ipython",
    "version": 3
   },
   "file_extension": ".py",
   "mimetype": "text/x-python",
   "name": "python",
   "nbconvert_exporter": "python",
   "pygments_lexer": "ipython3",
   "version": "3.6.4"
  }
 },
 "nbformat": 4,
 "nbformat_minor": 2
}
